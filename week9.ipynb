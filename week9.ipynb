{
 "cells": [
  {
   "cell_type": "code",
   "execution_count": 7,
   "id": "940b56b3",
   "metadata": {},
   "outputs": [
    {
     "name": "stdout",
     "output_type": "stream",
     "text": [
      "x값을 입력해주세요.(숫자):3\n",
      "45\n"
     ]
    }
   ],
   "source": [
    "x=int(input(\"x값을 입력해주세요.(숫자):\"))\n",
    "\n",
    "def calc(x):\n",
    "    return 3*x*x+5*x+3\n",
    "print(str(calc(x)))"
   ]
  },
  {
   "cell_type": "code",
   "execution_count": 15,
   "id": "3c161a87",
   "metadata": {},
   "outputs": [
    {
     "name": "stdout",
     "output_type": "stream",
     "text": [
      "반지름값을 입력해주세요.(숫자):3\n",
      "28.26\n"
     ]
    }
   ],
   "source": [
    "pi=3.14\n",
    "r=float(input(\"반지름값을 입력해주세요.(숫자):\"))\n",
    "def area(r):\n",
    "    return pi*r*r\n",
    "print('%.2f' %area(r))"
   ]
  },
  {
   "cell_type": "code",
   "execution_count": null,
   "id": "07c7f9df",
   "metadata": {},
   "outputs": [],
   "source": []
  }
 ],
 "metadata": {
  "kernelspec": {
   "display_name": "Python 3",
   "language": "python",
   "name": "python3"
  },
  "language_info": {
   "codemirror_mode": {
    "name": "ipython",
    "version": 3
   },
   "file_extension": ".py",
   "mimetype": "text/x-python",
   "name": "python",
   "nbconvert_exporter": "python",
   "pygments_lexer": "ipython3",
   "version": "3.9.0"
  }
 },
 "nbformat": 4,
 "nbformat_minor": 5
}
