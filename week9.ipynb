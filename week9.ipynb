{
 "cells": [
  {
   "cell_type": "code",
   "execution_count": 7,
   "metadata": {},
   "outputs": [
    {
     "name": "stdout",
     "output_type": "stream",
     "text": [
      "x값을 입력해주세요.(숫자):3\n",
      "45\n"
     ]
    }
   ],
   "source": [
    "x=int(input(\"x값을 입력해주세요.(숫자):\"))\n",
    "\n",
    "def calc(x):\n",
    "    return 3*x*x+5*x+3\n",
    "print(str(calc(x)))"
   ]
  },
  {
   "cell_type": "code",
   "execution_count": 1,
   "metadata": {},
   "outputs": [
    {
     "name": "stdout",
     "output_type": "stream",
     "text": [
      "반지름값을 입력해주세요.(숫자):3\n",
      "둘레: 18.84\n",
      "넓이: 28.26\n"
     ]
    }
   ],
   "source": [
    "pi=3.14\n",
    "r=float(input(\"반지름값을 입력해주세요.(숫자):\"))\n",
    "def area(r):\n",
    "    return pi*r*r\n",
    "def round(r):\n",
    "    return 2*pi*r\n",
    "print('둘레: %.2f' %round(r))\n",
    "print('넓이: %.2f' %area(r))"
   ]
  }
 ],
 "metadata": {
  "kernelspec": {
   "display_name": "Python 3",
   "language": "python",
   "name": "python3"
  },
  "language_info": {
   "codemirror_mode": {
    "name": "ipython",
    "version": 3
   },
   "file_extension": ".py",
   "mimetype": "text/x-python",
   "name": "python",
   "nbconvert_exporter": "python",
   "pygments_lexer": "ipython3",
   "version": "3.7.9"
  }
 },
 "nbformat": 4,
 "nbformat_minor": 5
}
