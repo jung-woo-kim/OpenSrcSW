{
 "cells": [
  {
   "cell_type": "code",
   "execution_count": 7,
   "metadata": {},
   "outputs": [
    {
     "name": "stdout",
     "output_type": "stream",
     "text": [
      "(1,2)\n",
      "(3,4)\n",
      "(4,6)\n"
     ]
    }
   ],
   "source": [
    "class Point:\n",
    "    class_a=0\n",
    "    class_b=0\n",
    "    def __init__(self,a,b):\n",
    "        self.class_a=a\n",
    "        self.class_b=b\n",
    "    def show(self):\n",
    "        print(\"(\"+str(self.class_a)+\",\"+str(self.class_b)+\")\")\n",
    "        \n",
    "    def __add__(self,others):\n",
    "         return Point(self.class_a+others.class_a,self.class_b+others.class_b)\n",
    "a=Point(1,2)\n",
    "a.show()\n",
    "        \n",
    "b=Point(3,4)\n",
    "b.show()\n",
    "\n",
    "a=a+b\n",
    "a.show()"
   ]
  },
  {
   "cell_type": "code",
   "execution_count": 67,
   "metadata": {},
   "outputs": [
    {
     "name": "stdout",
     "output_type": "stream",
     "text": [
      "[50.3, 54.9, 56.2, 56.6, 59.099999999999994, 59.1, 59.7, 59.9, 60.099999999999994, 60.89999999999999, 61.00000000000001, 61.4, 61.8, 64.3, 64.8, 65.30000000000001, 66.79999999999998, 67.19999999999999, 69.6, 70.0, 72.9, 73.0, 73.4, 75.60000000000001, 79.69999999999999]\n",
      "Max Week = 5/8~5/14\n"
     ]
    }
   ],
   "source": [
    "import csv\n",
    "\n",
    "f=open(\"seoul.csv\")\n",
    "data=csv.reader(f)\n",
    "next(data)\n",
    "list1=[]\n",
    "for row in data:\n",
    "    row[-1]=float(row[-1]) # 최고\n",
    "    row[-2]=float(row[-2]) #최저\n",
    "    \n",
    "    list1.append(row)\n",
    "\n",
    "diffList=[]\n",
    "nameList=[]\n",
    "temp_diff=0\n",
    "\n",
    "for i in range(0,len(list1)-6):\n",
    "    for j in range(0,7):\n",
    "        diff=list1[i+j][-1]-list1[i+j][-2]\n",
    "        temp_diff+=diff\n",
    "    \n",
    "    nameList.append(\"5/\"+str(int(i+1))+'~'+\"5/\"+str(int(i+7)))\n",
    "    diffList.append(temp_diff)\n",
    "    temp_diff=0\n",
    "\n",
    "for i in range(1,len(diffList)):\n",
    "    for j in range(i,0,-1):\n",
    "        if diffList[j]<diffList[j-1]:\n",
    "            diffList[j],diffList[j-1]=diffList[j-1],diffList[j]\n",
    "            nameList[j],nameList[j-1]=nameList[j-1],nameList[j]\n",
    "print(\"Max Week = \"+nameList[len(nameList)-1])"
   ]
  },
  {
   "cell_type": "code",
   "execution_count": 64,
   "metadata": {},
   "outputs": [
    {
     "data": {
      "image/png": "[encoded data removed]",
      "text/plain": [
       "<Figure size 432x288 with 1 Axes>"
      ]
     },
     "metadata": {
      "needs_background": "light"
     },
     "output_type": "display_data"
    },
    {
     "name": "stdout",
     "output_type": "stream",
     "text": [
      "[1. 1. 1.]\n"
     ]
    }
   ],
   "source": [
    "import numpy as np\n",
    "import matplotlib.pyplot as plt\n",
    "\n",
    "\n",
    "Doc=np.array([[1,1,0,1,0,1],[1,1,1,0,1,0],[1,1,0,1,0,0]])\n",
    "query=np.array([1,1,0,0,1,0])\n",
    "\n",
    "div=np.abs(Doc)*np.abs(query)\n",
    "cos=div.transpose()/np.dot(Doc,query.transpose())\n",
    "cos1=np.sum(cos,axis=0)\n",
    "plt.bar(cos1,cos1)\n",
    "plt.show()\n",
    "print(cos1)"
   ]
  },
  {
   "cell_type": "code",
   "execution_count": null,
   "metadata": {},
   "outputs": [],
   "source": []
  }
 ],
 "metadata": {
  "kernelspec": {
   "display_name": "Python 3",
   "language": "python",
   "name": "python3"
  },
  "language_info": {
   "codemirror_mode": {
    "name": "ipython",
    "version": 3
   },
   "file_extension": ".py",
   "mimetype": "text/x-python",
   "name": "python",
   "nbconvert_exporter": "python",
   "pygments_lexer": "ipython3",
   "version": "3.7.9"
  }
 },
 "nbformat": 4,
 "nbformat_minor": 4
}
