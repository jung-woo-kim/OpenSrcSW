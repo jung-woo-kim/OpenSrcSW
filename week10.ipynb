{
 "cells": [
  {
   "cell_type": "code",
   "execution_count": 1,
   "metadata": {},
   "outputs": [
    {
     "name": "stdout",
     "output_type": "stream",
     "text": [
      "Numbers?10 15 456 -5\n",
      "Max:456\n"
     ]
    }
   ],
   "source": [
    "num=input(\"Numbers?\")\n",
    "num_list=num.split(\" \")\n",
    "max=int(num_list[0])\n",
    "for i in num_list:\n",
    "    temp=int(i)\n",
    "    if temp>max:\n",
    "        max=temp\n",
    "print(\"Max:\"+str(max))"
   ]
  },
  {
   "cell_type": "code",
   "execution_count": 13,
   "metadata": {},
   "outputs": [
    {
     "name": "stdout",
     "output_type": "stream",
     "text": [
      "input string:abc def\n",
      "efg bcd \n",
      "input string:efg bcd\n",
      "abc def \n"
     ]
    }
   ],
   "source": [
    "string=input(\"input string:\")\n",
    "string_list=string.split(\" \")\n",
    "string_list.reverse()\n",
    "password=\"\"\n",
    "for string in string_list:\n",
    "    list1=list(string)\n",
    "    for char in list1:\n",
    "        password=password+chr(ord(char)+1)\n",
    "    password=password+\" \"\n",
    "print(password)\n",
    "string=input(\"input string:\")\n",
    "string_list=string.split(\" \")\n",
    "string_list.reverse()\n",
    "password=\"\"\n",
    "for string in string_list:\n",
    "    list1=list(string)\n",
    "    for char in list1:\n",
    "        password=password+chr(ord(char)-1)\n",
    "    password=password+\" \"\n",
    "print(password)"
   ]
  },
  {
   "cell_type": "code",
   "execution_count": 20,
   "metadata": {},
   "outputs": [
    {
     "name": "stdout",
     "output_type": "stream",
     "text": [
      "input 10people's name and telnum\n",
      "1번:abc 123\n",
      "2번:def 456\n",
      "3번:ghi 789\n",
      "4번:jkl 101112\n",
      "5번:mno 131415\n",
      "6번:pqr 161718\n",
      "7번:stu 192021\n",
      "8번:vwx 222324\n",
      "9번:yza 252627\n",
      "10번:bcd 282930\n",
      "name?:abc\n",
      "123\n",
      "num?:456\n",
      "def\n"
     ]
    }
   ],
   "source": [
    "print(\"input 10people's name and telnum\")\n",
    "PhoneBook={}\n",
    "for i in range(0,10):\n",
    "    string=input(str(i+1)+\"번:\")\n",
    "    name_num=string.split(\" \")\n",
    "    PhoneBook[name_num[0]]=name_num[1]\n",
    "name=input(\"name?:\")\n",
    "try:\n",
    "    print(PhoneBook[name])\n",
    "except:\n",
    "    print(\"만족하는 사용자가 없습니다.\")\n",
    "num=input(\"num?:\")\n",
    "check=0\n",
    "for k, v in PhoneBook.items(): \n",
    "    if v == num:\n",
    "        print(k)\n",
    "        check=1\n",
    "        break\n",
    "if check==0:\n",
    "    print(\"만족하는 사용자가 없습니다.\")"
   ]
  },
  {
   "cell_type": "code",
   "execution_count": null,
   "metadata": {},
   "outputs": [],
   "source": []
  }
 ],
 "metadata": {
  "kernelspec": {
   "display_name": "Python 3",
   "language": "python",
   "name": "python3"
  },
  "language_info": {
   "codemirror_mode": {
    "name": "ipython",
    "version": 3
   },
   "file_extension": ".py",
   "mimetype": "text/x-python",
   "name": "python",
   "nbconvert_exporter": "python",
   "pygments_lexer": "ipython3",
   "version": "3.7.9"
  }
 },
 "nbformat": 4,
 "nbformat_minor": 4
}
